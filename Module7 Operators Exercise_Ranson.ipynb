{
 "cells": [
  {
   "cell_type": "markdown",
   "metadata": {},
   "source": [
    "### Exercise 1\n",
    "Ask a user to enter a number. If the number is positive, print <b>Positive number</b>. Otherwise, do not print any message. Finally, print 'goodbye' message at the end."
   ]
  },
  {
   "cell_type": "code",
   "execution_count": 9,
   "metadata": {},
   "outputs": [
    {
     "name": "stdin",
     "output_type": "stream",
     "text": [
      "Enter a number:  -3\n"
     ]
    },
    {
     "name": "stdout",
     "output_type": "stream",
     "text": [
      "goodbye\n"
     ]
    }
   ],
   "source": [
    "integer = int(input(\"Enter a number: \"))\n",
    "\n",
    "if integer >= 0 :\n",
    "    print (\"Positive number\")\n",
    "\n",
    "print(\"goodbye\")"
   ]
  },
  {
   "cell_type": "code",
   "execution_count": null,
   "metadata": {},
   "outputs": [],
   "source": []
  },
  {
   "cell_type": "markdown",
   "metadata": {},
   "source": [
    "### Exercise 2\n",
    "Ask for a code and store that answer. \n",
    "If the answer is grey then print out if you found secret code.\n",
    "Otherwise print out the code is not the secret code."
   ]
  },
  {
   "cell_type": "code",
   "execution_count": 17,
   "metadata": {},
   "outputs": [
    {
     "name": "stdin",
     "output_type": "stream",
     "text": [
      "Provide your code:  Grey\n"
     ]
    },
    {
     "name": "stdout",
     "output_type": "stream",
     "text": [
      "You've found the secret code.\n"
     ]
    }
   ],
   "source": [
    "code_user = input(\"Provide your code: \").lower()\n",
    "\n",
    "if code_user == 'grey' :\n",
    "    print(\"You've found the secret code.\")\n",
    "else :\n",
    "    print(\"The code is not the secret code.\")\n",
    "    "
   ]
  },
  {
   "cell_type": "code",
   "execution_count": null,
   "metadata": {},
   "outputs": [],
   "source": []
  },
  {
   "cell_type": "markdown",
   "metadata": {},
   "source": [
    "### Exercise 3\n",
    "\n",
    "Ask a user to enter a phrase. If the word contains a number, display the \"Number found\" message. Otherwise, show the \"Number not found\" message. "
   ]
  },
  {
   "cell_type": "code",
   "execution_count": 21,
   "metadata": {},
   "outputs": [
    {
     "name": "stdin",
     "output_type": "stream",
     "text": [
      "Enter a phrase:  kdk0\n"
     ]
    },
    {
     "name": "stdout",
     "output_type": "stream",
     "text": [
      "Number found.\n"
     ]
    }
   ],
   "source": [
    "phrase_user = input(\"Enter a phrase: \")\n",
    "\n",
    "a = \"0\" in phrase_user\n",
    "b = \"1\" in phrase_user\n",
    "c = \"2\" in phrase_user\n",
    "d = \"3\" in phrase_user\n",
    "e = \"4\" in phrase_user\n",
    "f = \"5\" in phrase_user\n",
    "g = \"6\" in phrase_user\n",
    "h = \"7\" in phrase_user\n",
    "i = \"8\" in phrase_user\n",
    "j = \"9\" in phrase_user\n",
    "\n",
    "if a or b or c or d or e or f or g or h or i or j : \n",
    "    print(\"Number found.\")\n",
    "else : \n",
    "    print(\"Number not found.\")"
   ]
  },
  {
   "cell_type": "code",
   "execution_count": null,
   "metadata": {},
   "outputs": [],
   "source": []
  },
  {
   "cell_type": "markdown",
   "metadata": {},
   "source": [
    "### Exercise 4\n",
    "\n",
    "Ask a user to enter a number. Then, only if the number is divisible by 2 and 3, show the result of the number divided by two and three in a formated string. The output should look something like this:\n",
    "        \n",
    "    Enter a number: 2\n",
    "    Bye    \n",
    "    \n",
    "    Enter a number: 60\n",
    "    60 / 2 = 30.0\n",
    "    60 / 3 = 20.0\n",
    "    Bye\n",
    "    \n",
    "    Enter a number: 3\n",
    "    Bye\n",
    "    \n",
    "    Enter a number: 10\n",
    "    Bye    "
   ]
  },
  {
   "cell_type": "code",
   "execution_count": 30,
   "metadata": {},
   "outputs": [
    {
     "name": "stdin",
     "output_type": "stream",
     "text": [
      "Enter a number:  120\n"
     ]
    },
    {
     "name": "stdout",
     "output_type": "stream",
     "text": [
      "120 / 2 = 60.0\n",
      "120 / 3 = 40.0\n",
      "Bye\n"
     ]
    }
   ],
   "source": [
    "numb_user = int(input(\"Enter a number: \"))\n",
    "\n",
    "a = numb_user%2\n",
    "b = numb_user%3\n",
    "\n",
    "c = numb_user/2\n",
    "d = numb_user/3\n",
    "\n",
    "if a == 0 and b == 0 : \n",
    "    print(f\"{numb_user} / 2 = {c}\\n{numb_user} / 3 = {d}\")\n",
    "\n",
    "print(\"Bye\")\n",
    "    "
   ]
  },
  {
   "cell_type": "code",
   "execution_count": null,
   "metadata": {},
   "outputs": [],
   "source": []
  },
  {
   "cell_type": "markdown",
   "metadata": {},
   "source": [
    "### Exercise 5\n",
    "Ask a user to enter a number. Determine if the number is zero, positive or negative. Use only <b>if</b> and <b>else</b> statements. \n",
    "    "
   ]
  },
  {
   "cell_type": "code",
   "execution_count": 36,
   "metadata": {},
   "outputs": [
    {
     "name": "stdin",
     "output_type": "stream",
     "text": [
      "Enter a number:  10\n"
     ]
    },
    {
     "name": "stdout",
     "output_type": "stream",
     "text": [
      "10 is a positive number.\n"
     ]
    }
   ],
   "source": [
    "numb_user = int(input(\"Enter a number: \"))\n",
    "\n",
    "if numb_user == 0 :\n",
    "    print(f\"{numb_user} is zero.\")\n",
    "elif numb_user > 0 :\n",
    "    print(f\"{numb_user} is a positive number.\")\n",
    "else: \n",
    "    print(f\"{numb_user} is a negative number.\")"
   ]
  },
  {
   "cell_type": "code",
   "execution_count": null,
   "metadata": {},
   "outputs": [],
   "source": []
  }
 ],
 "metadata": {
  "kernelspec": {
   "display_name": "Python 3 (ipykernel)",
   "language": "python",
   "name": "python3"
  },
  "language_info": {
   "codemirror_mode": {
    "name": "ipython",
    "version": 3
   },
   "file_extension": ".py",
   "mimetype": "text/x-python",
   "name": "python",
   "nbconvert_exporter": "python",
   "pygments_lexer": "ipython3",
   "version": "3.11.7"
  }
 },
 "nbformat": 4,
 "nbformat_minor": 4
}
